{
 "cells": [
  {
   "cell_type": "markdown",
   "id": "ecff5480-cecd-4d73-a38c-f46a44652b1f",
   "metadata": {},
   "source": [
    "# Import Libraries"
   ]
  },
  {
   "cell_type": "code",
   "execution_count": null,
   "id": "a5db5216-739a-47d3-bdbb-ef9d5812d0a3",
   "metadata": {},
   "outputs": [],
   "source": [
    "import os\n",
    "import numpy as np\n",
    "import pandas as pd\n",
    "import matplotlib.pyplot as plt\n",
    "import matplotlib.patches as mpl\n",
    "from sklearn.datasets import make_classification\n",
    "from scipy.stats import norm"
   ]
  },
  {
   "cell_type": "markdown",
   "id": "b929744d-5a88-4b9d-9d24-a82849e13e26",
   "metadata": {},
   "source": [
    "# Load Data"
   ]
  },
  {
   "cell_type": "code",
   "execution_count": null,
   "id": "f6b93dcb-960e-46a5-a80b-3dc58588531d",
   "metadata": {},
   "outputs": [],
   "source": [
    "class DataGenerator:\n",
    "    def __init__(self, coef_):\n",
    "        self.coef_ = coef_\n",
    "\n",
    "    def next(self, N=100):\n",
    "        x0 = np.full((1, N), self.coef_[0])\n",
    "        x1 = np.random.normal(self.coef_[1], 0.1, N)\n",
    "        x2 = np.random.normal(0.3 * x1, 0.1, N)\n",
    "        x3 = np.random.normal(0.25 * x1, 0.1, N)\n",
    "        x4 = np.random.normal(0.25 * x2 + 0.33 * x3, 0.2, N)\n",
    "        x5 = np.random.normal(0.77 * x4, 0.1, N)\n",
    "        x6 = np.random.normal(0.66 * x4, 0.2, N)\n",
    "        x7 = np.random.normal(0.33 * x4, 0.02, N)\n",
    "        x8 = np.random.normal(0.20 * x5 + 0.32 * x6 + 0.18 * x7, 0.1, N)\n",
    "        x9 = np.random.normal(0.5 * x8, 0.03, N)\n",
    "        x10 = np.random.normal(0.2 * x9, 0.05, N)\n",
    "        x11 = np.random.normal(0.3 * x9 + 0.4 * x10, 0.03, N)\n",
    "        x12 = np.random.normal(0.4 * x10 + 0.25 * x11, 0.08, N)\n",
    "        x13 = np.random.normal(0.2 * x10 + 0.02 * x11 + 0.12 * x12, 0.05, N)\n",
    "        x14 = np.random.normal(0.5 * x13, 0.01, N)\n",
    "        x15 = np.random.normal(0.5 * x14, 0.01, N)\n",
    "        x16 = np.random.normal(0.5 * x15, 0.01, N)\n",
    "        x17 = np.random.normal(0.5 * x16, 0.01, N)\n",
    "\n",
    "        data = np.vstack([x0, x1, x2, x3, x4, x5, x6, x7, x8, x9, x10, x11, x12, x13, x14, x15, x16, x17]).T\n",
    "\n",
    "        data_normalized = (data - np.min(data)) / np.ptp(data)\n",
    "        \n",
    "        df = pd.DataFrame(data_normalized, columns=[f'Feature{i}' for i in range(18)])\n",
    "        \n",
    "        return df"
   ]
  },
  {
   "cell_type": "code",
   "execution_count": null,
   "id": "72afcdf6-1490-41e5-9e93-6b5686fc2e47",
   "metadata": {},
   "outputs": [],
   "source": [
    "coef = [1, 0.5]\n",
    "generator = DataGenerator(coef)\n",
    "df = generator.next(N=100)\n",
    "df.head()"
   ]
  },
  {
   "cell_type": "code",
   "execution_count": null,
   "id": "d834f83a-4767-4255-b07b-3ed307c927dc",
   "metadata": {},
   "outputs": [],
   "source": [
    "#X, y = make_classification(n_samples=100, n_features=18, random_state=42)\n",
    "#X = norm.ppf((np.abs(X) - X.min()) / (X.max() - X.min()))\n",
    "#df = pd.DataFrame(np.abs(X), columns=[f'Feature{i}' for i in range(18)])\n",
    "#df[\"target\"] = y\n",
    "#df.head()"
   ]
  },
  {
   "cell_type": "markdown",
   "id": "22754375-1a02-4c59-ba96-dab856f5b2e1",
   "metadata": {},
   "source": [
    "# Generate Chernoff Faces"
   ]
  },
  {
   "cell_type": "code",
   "execution_count": null,
   "id": "8fdfd182-9df4-4ffe-8814-b980480196b6",
   "metadata": {},
   "outputs": [],
   "source": [
    "def generate_chernoff_face(ax, x):\n",
    "    x[3] = 1.9 * (x[3]-.5)\n",
    "    x[4] = (x[4] + .25)\n",
    "    x[5] = (x[5] + .2)\n",
    "    x[6] = .3 * (x[6] + .01)\n",
    "    x[7] = 5 * (x[7] + .001)\n",
    "    x[8] /= 5\n",
    "    x[11] = 2 * (x[11] - .5)\n",
    "    x[12] += .05\n",
    "    x[13] += .1\n",
    "    x[14] = .5 * (x[14] - .5)\n",
    "    x[15] = .25 * x[15]\n",
    "    x[16] = .5 * (x[16] - .5)\n",
    "    x[17] = .5 * (x[17] + .1)\n",
    "    \n",
    "    # Face (top)\n",
    "    ax.add_artist(mpl.Ellipse((0, (x[0] + x[2]) / 2), 2 * x[3], (x[0] - x[2]), fc='white', edgecolor='black', linewidth=2))\n",
    "\n",
    "    # Face (bottom)\n",
    "    ax.add_artist(mpl.Ellipse((0, (-x[0] + x[1] + x[2]) / 2), 2 * x[4], (x[0] + x[1] + x[2]), fc='white', edgecolor='black', linewidth=2))\n",
    "\n",
    "    # Nose\n",
    "    ax.plot([0, 0], [-x[5] / 2, x[5] / 2], 'k')\n",
    "\n",
    "    # Mouth\n",
    "    mouth_arc = mpl.Arc((0, -x[6] + 0.5 / x[7]), 1 / x[7], 1 / x[7],\n",
    "                                       theta1=270 - 180 / np.pi * np.arctan(x[7] * x[8]),\n",
    "                                       theta2=270 + 180 / np.pi * np.arctan(x[7] * x[8]))\n",
    "    ax.add_artist(mouth_arc)\n",
    "\n",
    "    # Left Eye & Right Eye\n",
    "    for eye_x in [-x[10] - x[13] / 2, x[10] + x[13] / 2]:\n",
    "        ax.add_artist(mpl.Ellipse((eye_x, x[9]), x[13], x[12] * x[13], angle=180 / np.pi * x[11], facecolor='white', edgecolor='black'))\n",
    "\n",
    "    # Left Pupil & Right Pupil\n",
    "    for pupil_x in [-x[10] - x[13] / 2 - x[14] * x[13] / 2, x[10] + x[13] / 2 - x[14] * x[13] / 2]:\n",
    "        ax.add_artist(mpl.Ellipse((pupil_x, x[9]), 0.05, 0.05, facecolor='black'))\n",
    "\n",
    "    # Left Brow & Right Brow\n",
    "    for brow_x in [-x[10] - x[13] / 2, x[10] + x[13] / 2]:\n",
    "        ax.plot([brow_x - x[13] * x[17] / 2, brow_x + x[13] * x[17] / 2],\n",
    "                [x[9] + x[12] * x[13] * (x[15] + x[16]), x[9] + x[12] * x[13] * (x[15] - x[16])], 'k')"
   ]
  },
  {
   "cell_type": "markdown",
   "id": "bc069b65-992f-4551-a28b-f69f2a370061",
   "metadata": {},
   "source": [
    "# Plot"
   ]
  },
  {
   "cell_type": "code",
   "execution_count": null,
   "id": "79c72063-3e74-417f-b291-6a81d0004b12",
   "metadata": {},
   "outputs": [],
   "source": [
    "target = np.random.randint(0, 2, 100)"
   ]
  },
  {
   "cell_type": "code",
   "execution_count": null,
   "id": "c54caf9c-9f14-4993-a28e-c350f4c6388b",
   "metadata": {
    "scrolled": true
   },
   "outputs": [],
   "source": [
    "fig, ax = plt.subplots(5,10, figsize=(20,10))\n",
    "c = 0\n",
    "for i in range(5):\n",
    "    for j in range(10):\n",
    "        data = df.loc[np.random.randint(df.shape[0])]\n",
    "        if target[c] == 0:\n",
    "            cface(ax[i, j], data)    \n",
    "            ax[i, j].set_facecolor('xkcd:green')\n",
    "        else:\n",
    "            cface(ax[i, j], data)\n",
    "            ax[i, j].set_facecolor(\"xkcd:red\")\n",
    "\n",
    "        c += 1\n",
    "        ax[i,j].axis([-1.5, 1.5, -1.5, 1.5])\n",
    "        ax[i,j].set_xticks([])\n",
    "        ax[i,j].set_yticks([])"
   ]
  },
  {
   "cell_type": "code",
   "execution_count": null,
   "id": "90568c71-8048-451a-a15d-1ca1541d83ce",
   "metadata": {},
   "outputs": [],
   "source": []
  },
  {
   "cell_type": "code",
   "execution_count": null,
   "id": "349bf612-1b99-4ceb-96e0-2b3de74f97ae",
   "metadata": {},
   "outputs": [],
   "source": []
  },
  {
   "cell_type": "code",
   "execution_count": null,
   "id": "11d00258-60b3-475f-8010-dbdaba1e661c",
   "metadata": {},
   "outputs": [],
   "source": []
  }
 ],
 "metadata": {
  "kernelspec": {
   "display_name": "Python 3 (ipykernel)",
   "language": "python",
   "name": "python3"
  },
  "language_info": {
   "codemirror_mode": {
    "name": "ipython",
    "version": 3
   },
   "file_extension": ".py",
   "mimetype": "text/x-python",
   "name": "python",
   "nbconvert_exporter": "python",
   "pygments_lexer": "ipython3",
   "version": "3.10.12"
  }
 },
 "nbformat": 4,
 "nbformat_minor": 5
}
